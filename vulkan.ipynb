{
 "cells": [
  {
   "cell_type": "markdown",
   "metadata": {},
   "source": [
    "# Лабораторная работа №2: \"Вулканическая баллистика\""
   ]
  },
  {
   "cell_type": "markdown",
   "metadata": {},
   "source": [
    "## Библиотеки"
   ]
  },
  {
   "cell_type": "code",
   "execution_count": 1,
   "metadata": {},
   "outputs": [],
   "source": [
    "from numpy.random import Generator, PCG64\n",
    "from scipy.optimize import root_scalar, brentq, fsolve, minimize_scalar\n",
    "from typing import Dict, List\n",
    "import matplotlib.pyplot as plt\n",
    "import numpy as np\n",
    "import simpy\n",
    "from tqdm import tqdm\n",
    "import pandas as pd"
   ]
  },
  {
   "cell_type": "markdown",
   "metadata": {},
   "source": [
    "## Класс бомбы"
   ]
  },
  {
   "cell_type": "code",
   "execution_count": 2,
   "metadata": {},
   "outputs": [],
   "source": [
    "class Bomb:\n",
    "    \n",
    "    g = np.array([0,0,-9.82])\n",
    "    \n",
    "    def __init__(self,\n",
    "                 t_erup: float,\n",
    "                 r0: np.ndarray,\n",
    "                 v0: np.ndarray,\n",
    "                 mass: float,\n",
    "                 radius: float):\n",
    "        self.t_erup = t_erup\n",
    "        self.r = r0\n",
    "        self.v = v0\n",
    "        self.m = mass\n",
    "        self.R = radius\n",
    "        self.is_coll = False\n",
    "    \n",
    "    def calc_r(self, t: float):\n",
    "        \"\"\"Рассчитать радиус-вектор в момент времени `t`.\"\"\"\n",
    "        return 1/2 * self.g * (t - self.t_erup)**2 + self.v * (t - self.t_erup) + self.r\n",
    "    \n",
    "    def calc_v(self, t: float):\n",
    "        \"\"\"Рассчитать вектор скорости в момент времени `t`.\"\"\"\n",
    "        return self.v + self.g * (t - self.t_erup)\n",
    "    \n",
    "    def is_collided(self):\n",
    "        \"\"\"Столкивался ли камень.\"\"\"\n",
    "        return False\n",
    "    \n",
    "    def xy_fall(self):\n",
    "        \"\"\"Координаты падения.\"\"\"\n",
    "        return self.calc_r(when_ground(self))[:-1]"
   ]
  },
  {
   "cell_type": "markdown",
   "metadata": {},
   "source": [
    "## Модель"
   ]
  },
  {
   "cell_type": "markdown",
   "metadata": {},
   "source": [
    "Глобальные списки летящих камней и камней на земле, а также словарь (хэш-таблица) процессов каждого экземпляра бомбы:"
   ]
  },
  {
   "cell_type": "code",
   "execution_count": 3,
   "metadata": {},
   "outputs": [],
   "source": [
    "flyings, fallens = [], []\n",
    "processes: Dict[Bomb, List[simpy.Process]] = {}"
   ]
  },
  {
   "cell_type": "markdown",
   "metadata": {},
   "source": [
    "Функция формирования генератора чисел:"
   ]
  },
  {
   "cell_type": "code",
   "execution_count": 4,
   "metadata": {},
   "outputs": [],
   "source": [
    "def get_rand_state(seed: int = None):\n",
    "    return Generator(PCG64(seed))"
   ]
  },
  {
   "cell_type": "markdown",
   "metadata": {},
   "source": [
    "Процесс выброса камней при извержении. Всего таких процессов при моделировании `n_erups`:"
   ]
  },
  {
   "cell_type": "code",
   "execution_count": 47,
   "metadata": {},
   "outputs": [],
   "source": [
    "def eruption(env: simpy.Environment, dt: float, n: int, rs: Generator, allow_colision):\n",
    "    \"\"\"Процесс (в терминах `SimPy`) i-го выброса камней.\n",
    "    \n",
    "    env :\n",
    "        Объект среды `SimPy`,\n",
    "        отвечающий за управление и обработку событий.\n",
    "    dt :\n",
    "        Задержка начала процесса.\n",
    "    n :\n",
    "        Число выбрасываемых камней.\n",
    "    rs :\n",
    "        Генератор чисел.\n",
    "    \"\"\"\n",
    "    yield env.timeout(dt)\n",
    "    BOMBS = gen_bombs(env, n, rs)\n",
    "    for BOMB in BOMBS:\n",
    "        time = when_ground(BOMB)\n",
    "        processes[BOMB] = []\n",
    "        processes[BOMB].append(env.process(ground(env, time, BOMB)))\n",
    "        if allow_colision:\n",
    "            for BOMB_f in flyings:\n",
    "                if BOMB_f is BOMB:\n",
    "                    continue\n",
    "                t_col = when_collision(BOMB, BOMB_f)\n",
    "                if t_col is np.inf:\n",
    "                    continue\n",
    "                processes[BOMB].append(env.process(collision(env, t_col, BOMB, BOMB_f)))\n",
    "        flyings.append(BOMB)"
   ]
  },
  {
   "cell_type": "markdown",
   "metadata": {},
   "source": [
    "Функция генерации камней:"
   ]
  },
  {
   "cell_type": "code",
   "execution_count": 48,
   "metadata": {},
   "outputs": [],
   "source": [
    "R_c, D_c = 100, 10\n",
    "H = 122\n",
    "mu_s, sigma_s = 18, 2.5\n",
    "mu_teta, sigma_teta = 70/180*np.pi, 15/180*np.pi\n",
    "R_min, R_max = 1.5, 3.5\n",
    "rho = 6700"
   ]
  },
  {
   "cell_type": "code",
   "execution_count": 5,
   "metadata": {},
   "outputs": [],
   "source": [
    "def gen_bombs(env: simpy.Environment, n: int, rs: Generator):\n",
    "    \"\"\"Сгенерировать n бомб (камней).\n",
    "\n",
    "    env :\n",
    "        Объект среды `SimPy`,\n",
    "        отвечающий за управление и обработку событий.\n",
    "    n :\n",
    "        Число выбрасываемых камней.\n",
    "    rs :\n",
    "        Генератор чисел.\n",
    "    \"\"\"\n",
    "#     r0 = np.array([])\n",
    "#     for bomb in range(n):\n",
    "#         v0 = vel_rand()\n",
    "#         mass = random.choice(mass_list)\n",
    "#         radius = random.choice(radius_list)\n",
    "#         Bomb(env.now, r0, v0, mass, radius)\n",
    "        \n",
    "    r = rs.uniform(low=1e-5, high=R_c, size=n)\n",
    "    z = rs.uniform(low=H-D_c, high=H, size=n)\n",
    "    fi = rs.uniform(low=0, high=2*np.pi, size=n)\n",
    "    teta = rs.normal(loc=mu_teta, scale=sigma_teta, size=n)\n",
    "    vel = rs.normal(loc=mu_s, scale=sigma_s, size=n)\n",
    "    R = rs.uniform(low=R_min, high=R_max, size=n)\n",
    "    bombs = []\n",
    "    \n",
    "    for i in range(n):\n",
    "        teta[i] = max(0, teta[i])\n",
    "        vel[i] = max(2 ,vel[i])\n",
    "        BOMB = Bomb(\n",
    "                t_erup=env.now,\n",
    "                r0=np.array([r[i]*np.cos(fi[i]), r[i]*np.sin(fi[i]), z[i]]),\n",
    "                v0=np.array([vel[i]*np.cos(teta[i])*np.cos(fi[i]), vel[i]*np.cos(teta[i])*np.sin(fi[i]), vel[i]*np.sin(teta[i])]),\n",
    "                mass=4/3*np.pi*R[i]**3*rho,\n",
    "                radius=R[i])\n",
    "        bombs.append(BOMB)\n",
    "    return bombs"
   ]
  },
  {
   "cell_type": "markdown",
   "metadata": {},
   "source": [
    "Функция-**процесс**, отвечающая действию при событии `GROUND`:"
   ]
  },
  {
   "cell_type": "code",
   "execution_count": 50,
   "metadata": {},
   "outputs": [],
   "source": [
    "def ground(env: simpy.Environment, dt: float, b: Bomb):\n",
    "    \"\"\"Процесс (в терминах `SimPy`), происходящий при наступлении\n",
    "    события `GROUND`.\n",
    "    \n",
    "    env :\n",
    "        Объект среды `SimPy`,\n",
    "        отвечающий за управление и обработку событий.\n",
    "    dt :\n",
    "        Задержка начала процесса.\n",
    "    b :\n",
    "        Бомба (камень).\n",
    "    \"\"\"\n",
    "    try:\n",
    "        yield env.timeout(dt)\n",
    "        clear_queue(b)\n",
    "        if b in flyings:\n",
    "            flyings.remove(b)\n",
    "        fallens.append(b)\n",
    "    except simpy.Interrupt:\n",
    "        return"
   ]
  },
  {
   "cell_type": "markdown",
   "metadata": {},
   "source": [
    "Функция-**процесс**, описывающая действие при событии `COLLISION`:"
   ]
  },
  {
   "cell_type": "code",
   "execution_count": 51,
   "metadata": {},
   "outputs": [],
   "source": [
    "def collision(env: simpy.Environment, dt: float, b1: Bomb, b2: Bomb):\n",
    "    \"\"\"Процесс (в терминах `SimPy`), происходящий при наступлении\n",
    "    события `COLLISION`.\n",
    "    \n",
    "    env :\n",
    "        Объект среды `SimPy`,\n",
    "        отвечающий за управление и обработку событий.\n",
    "    dt :\n",
    "        Задержка начала процесса.\n",
    "    b1 и b2 :\n",
    "        Бомбы.\n",
    "    \"\"\"\n",
    "    try:\n",
    "        yield env.timeout(dt)\n",
    "        \n",
    "        clear_queue(b1)\n",
    "        clear_queue(b2)\n",
    "        b1.t_erup, b2.t_erup = env.now, env.now\n",
    "        b1.r, b2.r = b1.calc_r(env.now), b2.calc_r(env.now)\n",
    "        b1.v, b2.v = calc_collision(env.now, b1, b2)\n",
    "        b1.is_coll, b2.is_coll = True, True\n",
    "        \n",
    "        for b in [b1, b2]:\n",
    "            \n",
    "            time = when_ground(b)\n",
    "            processes[b].append(env.process(ground(env, time, b)))\n",
    "            \n",
    "            for bb in flyings:\n",
    "                if bb is b:\n",
    "                    continue\n",
    "                t_col = when_collision(b, bb)\n",
    "                if t_col is np.inf:\n",
    "                    continue\n",
    "                processes[b].append(env.process(collision(env, t_col, b, bb)))\n",
    "                \n",
    "    except simpy.Interrupt:\n",
    "        return"
   ]
  },
  {
   "cell_type": "markdown",
   "metadata": {},
   "source": [
    "Функция очистки очереди событий, связанных с бомбой `b`:"
   ]
  },
  {
   "cell_type": "code",
   "execution_count": 52,
   "metadata": {},
   "outputs": [],
   "source": [
    "def clear_queue(b: Bomb):\n",
    "    for proc in processes[b]:\n",
    "        try:\n",
    "            proc.interrupt()\n",
    "        except RuntimeError:\n",
    "            continue"
   ]
  },
  {
   "cell_type": "markdown",
   "metadata": {},
   "source": [
    "Функция расчёта времени падения камня на землю ($z=0$):"
   ]
  },
  {
   "cell_type": "code",
   "execution_count": 53,
   "metadata": {},
   "outputs": [],
   "source": [
    "def when_ground(b: Bomb):\n",
    "    r_z = b.r[-1]\n",
    "    v_z = b.v[-1]\n",
    "    g_z = b.g[-1]\n",
    "    time = (-v_z - np.sqrt(v_z**2 - 2*g_z*r_z))/g_z\n",
    "    if time < 0:\n",
    "        raise ValueError(\"time < 0\")\n",
    "    return time+b.t_erup"
   ]
  },
  {
   "cell_type": "markdown",
   "metadata": {},
   "source": [
    "Функция расчёта скоростей бомб `b1` и `b2` после их столкновения в момент времени `t`:"
   ]
  },
  {
   "cell_type": "code",
   "execution_count": 54,
   "metadata": {},
   "outputs": [],
   "source": [
    "def calc_collision(t: float, b1: Bomb, b2: Bomb, c=0.8):\n",
    "    v_1 = b1.calc_v(t)\n",
    "    v_2 = b2.calc_v(t)\n",
    "    norm = (b1.calc_r(t) - b2.calc_r(t))/np.linalg.norm(b1.calc_r(t) - b2.calc_r(t))\n",
    "    v_c = -(v_1 - v_2)*norm\n",
    "    v_s = -v_c\n",
    "    d_v_s = -c*v_s - v_s\n",
    "    p = b1.m*b2.m/(b1.m+b2.m)*d_v_s*norm\n",
    "    return v_1 + p/b1.m, v_2 + p/b2.m"
   ]
  },
  {
   "cell_type": "markdown",
   "metadata": {},
   "source": [
    "Функция расчёта момента времени столкновения камня `b1` с камнем `b2`:"
   ]
  },
  {
   "cell_type": "code",
   "execution_count": 55,
   "metadata": {},
   "outputs": [],
   "source": [
    "def when_collision(b1: Bomb, b2: Bomb):\n",
    "    \n",
    "    def dist(t):\n",
    "        dist = np.linalg.norm(b1.calc_r(t) - b2.calc_r(t))\n",
    "        if dist <= b1.R + b2.R:\n",
    "            return 0\n",
    "        return dist\n",
    "    \n",
    "    time_l = max(b1.t_erup, b2.t_erup)\n",
    "    time_r = min(when_ground(b1), when_ground(b2))\n",
    "    \n",
    "    if time_l >= time_r:\n",
    "        return np.inf\n",
    "    \n",
    "    result = minimize_scalar(dist, method='bounded', bounds=(time_l, time_r))\n",
    "    \n",
    "    if not result.success:\n",
    "        print(result)\n",
    "        return np.inf\n",
    "    \n",
    "    if result.fun <= b1.R + b2.R:\n",
    "        return result.x\n",
    "    \n",
    "    return np.inf"
   ]
  },
  {
   "cell_type": "markdown",
   "metadata": {},
   "source": [
    "Функция-**процесс** моделирования извержения:"
   ]
  },
  {
   "cell_type": "code",
   "execution_count": 56,
   "metadata": {},
   "outputs": [],
   "source": [
    "def simulation(env: simpy.Environment,\n",
    "               n_erups: int,\n",
    "               rs: Generator,\n",
    "               allowed_collisions=False):\n",
    "    \"\"\"Процесс (в терминах `SimPy`) моделирования.\n",
    "    \n",
    "    env :\n",
    "        Объект среды `SimPy`,\n",
    "        отвечающий за управление и обработку событий.\n",
    "    n_erups :\n",
    "        Количество извержений.\n",
    "    rs :\n",
    "        Генератор чисел.\n",
    "    allowed_collisions :\n",
    "        Столкновения возможны (`True`) или нет (`False`).\n",
    "    \"\"\"\n",
    "    betta = 90\n",
    "    n_bombs = np.random.randint(1, 100)\n",
    "    \n",
    "    for i in tqdm(range(n_erups)):\n",
    "        time = rs.exponential(scale=betta)\n",
    "        yield env.process(eruption(env, time, n_bombs, rs, allowed_collisions))"
   ]
  },
  {
   "cell_type": "markdown",
   "metadata": {},
   "source": [
    "Функция **запуска** моделирования извержения (с или без учёта столкновения камней):"
   ]
  },
  {
   "cell_type": "code",
   "execution_count": 57,
   "metadata": {},
   "outputs": [],
   "source": [
    "def simulate(n_erups: int,\n",
    "             allowed_collisions=False,\n",
    "             seed: int = None):\n",
    "    \"\"\"Запустить моделирование извержения.\n",
    "    \n",
    "    n_erups:\n",
    "        Количество извержений.\n",
    "    allowed_collisions :\n",
    "        Столкновения возможны (`True`) или нет (`False`).\n",
    "    seed:\n",
    "        Затравка для генератора чисел.\n",
    "    \"\"\"\n",
    "    env = simpy.Environment()\n",
    "    rs = get_rand_state(seed)\n",
    "    env.process(simulation(env, n_erups, rs, allowed_collisions))\n",
    "    env.run() # until=10"
   ]
  },
  {
   "cell_type": "markdown",
   "metadata": {},
   "source": [
    "Основная функция компьютерной модели:"
   ]
  },
  {
   "cell_type": "code",
   "execution_count": 58,
   "metadata": {},
   "outputs": [],
   "source": [
    "def main(n_erups: int,\n",
    "         allowed_collisions: bool,\n",
    "         seed: int = None):\n",
    "    \"\"\"Главная функция - точка входа в программу.\n",
    "    \n",
    "    n_erups :\n",
    "        Количество извержений.\n",
    "    \"\"\"\n",
    "    simulate(n_erups, allowed_collisions, seed)\n",
    "    print('done')"
   ]
  },
  {
   "cell_type": "markdown",
   "metadata": {},
   "source": [
    "## Моделирование"
   ]
  },
  {
   "cell_type": "code",
   "execution_count": 36,
   "metadata": {},
   "outputs": [
    {
     "name": "stderr",
     "output_type": "stream",
     "text": [
      "100%|██████████████████████████████████████████████████████████████████████████████████| 12/12 [00:10<00:00,  1.18it/s]\n"
     ]
    },
    {
     "name": "stdout",
     "output_type": "stream",
     "text": [
      "done\n"
     ]
    }
   ],
   "source": [
    "n_erups = 12 # Назначайте любое значение, но не менее 12\n",
    "allowed_collision = True\n",
    "main(n_erups, allowed_collision, 3033)"
   ]
  },
  {
   "cell_type": "code",
   "execution_count": 37,
   "metadata": {},
   "outputs": [],
   "source": [
    "points = [{'x': b.xy_fall()[0], 'y': b.xy_fall()[1], 'collision':b.is_coll } for b in fallens]"
   ]
  },
  {
   "cell_type": "code",
   "execution_count": 38,
   "metadata": {},
   "outputs": [],
   "source": [
    "tabel_points = pd.DataFrame(points)"
   ]
  },
  {
   "cell_type": "code",
   "execution_count": 39,
   "metadata": {},
   "outputs": [
    {
     "data": {
      "text/plain": [
       "True"
      ]
     },
     "execution_count": 39,
     "metadata": {},
     "output_type": "execute_result"
    }
   ],
   "source": [
    "allowed_collision"
   ]
  },
  {
   "cell_type": "code",
   "execution_count": 40,
   "metadata": {},
   "outputs": [],
   "source": [
    "tabel_points.to_csv(\"collision.csv\") if allowed_collision else tabel_points.to_csv(\"not_collision.csv\")"
   ]
  },
  {
   "cell_type": "markdown",
   "metadata": {},
   "source": [
    "## Визуализация\n",
    "\n",
    "Универсальная функция визуализации точек падения камней:"
   ]
  },
  {
   "cell_type": "code",
   "execution_count": 6,
   "metadata": {},
   "outputs": [],
   "source": [
    "df_col = pd.read_csv(\"collision.csv\")\n",
    "df_col_col = df_col.loc[df_col[\"collision\"] == True]\n",
    "df_col_not_col = df_col.loc[df_col[\"collision\"] != True]\n",
    "df_not_col = pd.read_csv(\"not_collision.csv\")"
   ]
  },
  {
   "cell_type": "code",
   "execution_count": 11,
   "metadata": {},
   "outputs": [
    {
     "data": {
      "image/png": "[encoded data removed]",
      "text/plain": [
       "<Figure size 1000x1000 with 1 Axes>"
      ]
     },
     "metadata": {
      "needs_background": "light"
     },
     "output_type": "display_data"
    }
   ],
   "source": [
    "fig = plt.figure(figsize=(10, 10), dpi=100)\n",
    "\n",
    "plt.scatter(df_col_col['x'], df_col_col['y'], c='coral', s=10, alpha=0.8, marker='o', label='Collided (Collision Allowed)')\n",
    "plt.scatter(df_col_not_col['x'], df_col_not_col['y'], c='dodgerblue', s=10, alpha=0.6, marker='o', label='Not Collided (Collision Allowed)')\n",
    "plt.scatter(df_not_col['x'], df_not_col['y'], c='g', edgecolor='darkgreen', linewidth=0.7, s=7, alpha=0.4, marker='o', label='No Collision Allowed')\n",
    "\n",
    "plt.axis('equal')\n",
    "plt.xlim(-700, 700)\n",
    "plt.ylim(-700, 700)\n",
    "\n",
    "plt.legend()\n",
    "plt.show()"
   ]
  },
  {
   "cell_type": "markdown",
   "metadata": {},
   "source": [
    "## Рекомендации\n",
    "\n",
    "* Используйте функции [`save`](https://numpy.org/doc/stable/reference/generated/numpy.save.html) и/или [`savez`](https://numpy.org/doc/stable/reference/generated/numpy.savez.html) библиотеки `NumPy` для сохранения точек падения. Вам не нужно будет хранить все полученные данные в оперативной памяти. После моделирования вы сможете читать данные в другой части кода, отделённой от той его части, которая отвечает за моделирование.\n",
    "* Решить уравнение встречи бомб можете численным методом [`root_scalar`](https://docs.scipy.org/doc/scipy/reference/generated/scipy.optimize.root_scalar.html) из пакета `SciPy`.\n",
    "* Используйте библиотеку дискретно-событийного моделирования [`SimPy`](https://simpy.readthedocs.io/en/latest/), чтобы не изобретать велосипед. Либо реализуйте программу согласно псевдокоду с лекции по теме дискретно-событийного моделирования."
   ]
  }
 ],
 "metadata": {
  "kernelspec": {
   "display_name": "Python 3 (ipykernel)",
   "language": "python",
   "name": "python3"
  },
  "language_info": {
   "codemirror_mode": {
    "name": "ipython",
    "version": 3
   },
   "file_extension": ".py",
   "mimetype": "text/x-python",
   "name": "python",
   "nbconvert_exporter": "python",
   "pygments_lexer": "ipython3",
   "version": "3.9.7"
  },
  "vscode": {
   "interpreter": {
    "hash": "ba9570baa6e925bb7c97c9565c44f2a9cbecb412f22b5c1b69b7184c022900db"
   }
  }
 },
 "nbformat": 4,
 "nbformat_minor": 2
}
